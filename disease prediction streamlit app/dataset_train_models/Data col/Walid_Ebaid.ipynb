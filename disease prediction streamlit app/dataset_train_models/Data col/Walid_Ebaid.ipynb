{
 "cells": [
  {
   "cell_type": "code",
   "execution_count": 1,
   "metadata": {
    "id": "it7OdEcYTFqq"
   },
   "outputs": [],
   "source": [
    "import pandas as pd\n",
    "from sklearn.ensemble import RandomForestClassifier\n",
    "from sklearn.model_selection import train_test_split\n",
    "from mlxtend.feature_selection import SequentialFeatureSelector\n",
    "from sklearn.metrics import accuracy_score"
   ]
  },
  {
   "cell_type": "code",
   "execution_count": 2,
   "metadata": {
    "id": "dyVf2_goTcUF"
   },
   "outputs": [],
   "source": [
    "test=pd.read_csv(r\"/content/Testing.csv\")\n",
    "train=pd.read_csv(r\"/content/Training.csv\")\n",
    "data = pd.concat([train, test])\n",
    "X, y=data.iloc[:,:-1], data.iloc[:,-1]"
   ]
  },
  {
   "cell_type": "code",
   "execution_count": 3,
   "metadata": {
    "colab": {
     "base_uri": "https://localhost:8080/"
    },
    "id": "pTXKw8JoTmG6",
    "outputId": "6c6ed0c6-a689-4381-8fc5-f15649206c85"
   },
   "outputs": [
    {
     "name": "stdout",
     "output_type": "stream",
     "text": [
      "Selected feature indices: (0, 1, 6, 7, 11, 12, 14, 25, 31, 34, 35, 40, 41, 50, 56, 74, 81, 85, 97, 101)\n",
      "Accuracy on test set: 0.932527693856999\n"
     ]
    }
   ],
   "source": [
    "X_train, X_test, y_train, y_test = train_test_split(X, y, test_size=0.2, random_state=42)\n",
    "\n",
    "# Create a RandomForestClassifier\n",
    "rf_classifier = RandomForestClassifier(random_state=42)\n",
    "\n",
    "# Create an SFS object with a specific number of features (e.g., 20)\n",
    "sfs = SequentialFeatureSelector(rf_classifier, k_features=20, forward=True, scoring='accuracy', cv=5)\n",
    "\n",
    "# Fit the SFS on the training data\n",
    "sfs.fit(X_train, y_train)\n",
    "\n",
    "# Print the selected feature indices\n",
    "print(\"Selected feature indices:\", sfs.k_feature_idx_)\n",
    "# Transform the data to include only the selected features\n",
    "X_train_selected = sfs.transform(X_train)\n",
    "X_test_selected = sfs.transform(X_test)\n",
    "\n",
    "# Train the classifier on the selected features\n",
    "rf_classifier.fit(X_train_selected, y_train)\n",
    "\n",
    "# Make predictions on the test set\n",
    "y_pred = rf_classifier.predict(X_test_selected)\n",
    "\n",
    "# Calculate accuracy on the test set\n",
    "accuracy = accuracy_score(y_test, y_pred)\n",
    "print(\"Accuracy on test set:\", accuracy)"
   ]
  },
  {
   "cell_type": "code",
   "execution_count": 9,
   "metadata": {
    "colab": {
     "base_uri": "https://localhost:8080/"
    },
    "id": "IR2XWkgmoOPg",
    "outputId": "510190b9-28a6-44b7-9807-454cf622d017"
   },
   "outputs": [
    {
     "name": "stdout",
     "output_type": "stream",
     "text": [
      "Recall on test set: 0.932527693856999\n"
     ]
    }
   ],
   "source": [
    "from sklearn.metrics import recall_score\n",
    "\n",
    "# Calculate recall on the test set\n",
    "recall = recall_score(y_test, y_pred, average='weighted')\n",
    "print(\"Recall on test set:\", recall)"
   ]
  },
  {
   "cell_type": "code",
   "execution_count": 6,
   "metadata": {
    "colab": {
     "base_uri": "https://localhost:8080/"
    },
    "id": "AvjQOp9VjIsW",
    "outputId": "ce42a331-dabe-44f4-9a89-350bcae451f6"
   },
   "outputs": [
    {
     "name": "stdout",
     "output_type": "stream",
     "text": [
      "Classification Report:\n",
      "                                         precision    recall  f1-score   support\n",
      "\n",
      "(vertigo) Paroymsal  Positional Vertigo       1.00      1.00      1.00        20\n",
      "                                   AIDS       0.82      0.93      0.87        29\n",
      "                                   Acne       0.83      0.96      0.89        25\n",
      "                    Alcoholic hepatitis       0.81      1.00      0.89        29\n",
      "                                Allergy       0.00      0.00      0.00        26\n",
      "                              Arthritis       1.00      0.88      0.93        24\n",
      "                       Bronchial Asthma       1.00      0.83      0.91        29\n",
      "                   Cervical spondylosis       1.00      1.00      1.00        21\n",
      "                            Chicken pox       1.00      1.00      1.00        20\n",
      "                    Chronic cholestasis       1.00      1.00      1.00        24\n",
      "                            Common Cold       1.00      1.00      1.00        20\n",
      "                                 Dengue       1.00      1.00      1.00        29\n",
      "                              Diabetes        1.00      0.95      0.98        21\n",
      "           Dimorphic hemmorhoids(piles)       0.33      1.00      0.50        18\n",
      "                          Drug Reaction       1.00      1.00      1.00        25\n",
      "                       Fungal infection       1.00      0.86      0.93        22\n",
      "                                   GERD       1.00      0.94      0.97        31\n",
      "                        Gastroenteritis       1.00      1.00      1.00        24\n",
      "                           Heart attack       0.92      0.92      0.92        25\n",
      "                            Hepatitis B       0.83      1.00      0.91        24\n",
      "                            Hepatitis C       1.00      0.78      0.88        23\n",
      "                            Hepatitis D       0.96      1.00      0.98        25\n",
      "                            Hepatitis E       1.00      0.96      0.98        28\n",
      "                          Hypertension        1.00      1.00      1.00        20\n",
      "                        Hyperthyroidism       1.00      1.00      1.00        31\n",
      "                           Hypoglycemia       1.00      1.00      1.00        20\n",
      "                         Hypothyroidism       1.00      1.00      1.00        23\n",
      "                               Impetigo       1.00      0.89      0.94        27\n",
      "                               Jaundice       1.00      1.00      1.00        20\n",
      "                                Malaria       1.00      1.00      1.00        16\n",
      "                               Migraine       1.00      1.00      1.00        20\n",
      "                        Osteoarthristis       0.90      1.00      0.95        18\n",
      "           Paralysis (brain hemorrhage)       1.00      0.96      0.98        26\n",
      "                    Peptic ulcer diseae       1.00      0.85      0.92        26\n",
      "                              Pneumonia       1.00      1.00      1.00        27\n",
      "                              Psoriasis       1.00      0.86      0.93        29\n",
      "                           Tuberculosis       1.00      1.00      1.00        28\n",
      "                                Typhoid       1.00      1.00      1.00        29\n",
      "                Urinary tract infection       1.00      0.86      0.93        22\n",
      "                         Varicose veins       0.88      0.96      0.92        24\n",
      "                            hepatitis A       1.00      1.00      1.00        25\n",
      "\n",
      "                               accuracy                           0.93       993\n",
      "                              macro avg       0.93      0.94      0.93       993\n",
      "                           weighted avg       0.93      0.93      0.93       993\n",
      "\n"
     ]
    },
    {
     "name": "stderr",
     "output_type": "stream",
     "text": [
      "/usr/local/lib/python3.10/dist-packages/sklearn/metrics/_classification.py:1344: UndefinedMetricWarning: Precision and F-score are ill-defined and being set to 0.0 in labels with no predicted samples. Use `zero_division` parameter to control this behavior.\n",
      "  _warn_prf(average, modifier, msg_start, len(result))\n",
      "/usr/local/lib/python3.10/dist-packages/sklearn/metrics/_classification.py:1344: UndefinedMetricWarning: Precision and F-score are ill-defined and being set to 0.0 in labels with no predicted samples. Use `zero_division` parameter to control this behavior.\n",
      "  _warn_prf(average, modifier, msg_start, len(result))\n",
      "/usr/local/lib/python3.10/dist-packages/sklearn/metrics/_classification.py:1344: UndefinedMetricWarning: Precision and F-score are ill-defined and being set to 0.0 in labels with no predicted samples. Use `zero_division` parameter to control this behavior.\n",
      "  _warn_prf(average, modifier, msg_start, len(result))\n"
     ]
    }
   ],
   "source": [
    "from sklearn.metrics import classification_report\n",
    "report = classification_report(y_test, y_pred)\n",
    "print(\"Classification Report:\")\n",
    "print(report)"
   ]
  },
  {
   "cell_type": "code",
   "execution_count": null,
   "metadata": {
    "id": "w0DK_DAfkPTi"
   },
   "outputs": [],
   "source": []
  }
 ],
 "metadata": {
  "colab": {
   "provenance": []
  },
  "kernelspec": {
   "display_name": "Python 3 (ipykernel)",
   "language": "python",
   "name": "python3"
  },
  "language_info": {
   "codemirror_mode": {
    "name": "ipython",
    "version": 3
   },
   "file_extension": ".py",
   "mimetype": "text/x-python",
   "name": "python",
   "nbconvert_exporter": "python",
   "pygments_lexer": "ipython3",
   "version": "3.11.4"
  }
 },
 "nbformat": 4,
 "nbformat_minor": 1
}
